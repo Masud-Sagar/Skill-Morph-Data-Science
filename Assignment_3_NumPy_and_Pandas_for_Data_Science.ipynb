{
  "nbformat": 4,
  "nbformat_minor": 0,
  "metadata": {
    "colab": {
      "provenance": []
    },
    "kernelspec": {
      "name": "python3",
      "display_name": "Python 3"
    },
    "language_info": {
      "name": "python"
    }
  },
  "cells": [
    {
      "cell_type": "code",
      "execution_count": 126,
      "metadata": {
        "id": "VRE1K5KXdhYS",
        "colab": {
          "base_uri": "https://localhost:8080/",
          "height": 70
        },
        "outputId": "eafaa7f5-a002-49c8-aca2-f444cc8d64d1"
      },
      "outputs": [
        {
          "output_type": "execute_result",
          "data": {
            "text/plain": [
              "'\\nStudent Performance Dataset Analysis\\nDataset Information\\nStudent Performance Dataset (StudentsPerformance.csv)\\n\\n1000 students with academic performance data\\n8 columns: gender, race/ethnicity, parental level of education, lunch, test preparation course, math score, reading score, writing score\\nScore Range: 0-100 for each subject\\nDemographics: Male/Female, 5 ethnic groups, 6 education levels, standard/free lunch, test prep completed/none\\n'"
            ],
            "application/vnd.google.colaboratory.intrinsic+json": {
              "type": "string"
            }
          },
          "metadata": {},
          "execution_count": 126
        }
      ],
      "source": [
        "\"\"\"\n",
        "Student Performance Dataset Analysis\n",
        "Dataset Information\n",
        "Student Performance Dataset (StudentsPerformance.csv)\n",
        "\n",
        "1000 students with academic performance data\n",
        "8 columns: gender, race/ethnicity, parental level of education, lunch, test preparation course, math score, reading score, writing score\n",
        "Score Range: 0-100 for each subject\n",
        "Demographics: Male/Female, 5 ethnic groups, 6 education levels, standard/free lunch, test prep completed/none\n",
        "\"\"\""
      ]
    },
    {
      "cell_type": "code",
      "source": [
        "#Task 1.1: Data Loading and Exploration\n",
        "import numpy as np\n",
        "import pandas as pd\n",
        "import matplotlib.pyplot as plt\n",
        "from google.colab import drive\n",
        "import warnings\n",
        "warnings.filterwarnings('ignore')\n",
        "\n",
        "# Load the dataset\n",
        "drive.mount('/content/drive')\n",
        "file_path ='/content/drive/MyDrive/dataset/StudentsPerformance.csv'\n",
        "columns = ['gender', 'race/ethnicity', 'parental level of education', 'lunch', 'test preparation course', 'math score','reading score', 'writing score']\n",
        "df = pd.read_csv(file_path, names=columns)\n",
        "print('Dataset loaded successfully, Dataset:\\n', df.shape)\n",
        "\n",
        "# Your tasks:\n",
        "# 1. Display first 10 rows\n",
        "# 2. Show dataset shape and info()\n",
        "# 3. Display unique values in each categorical column\n",
        "# 4. Show basic statistics for all score columns\n",
        "\n",
        "# Your code here:"
      ],
      "metadata": {
        "id": "Agxhn5_4eTuI",
        "colab": {
          "base_uri": "https://localhost:8080/"
        },
        "outputId": "90fc8663-dc52-4004-efc2-9510c1f7694c"
      },
      "execution_count": 127,
      "outputs": [
        {
          "output_type": "stream",
          "name": "stdout",
          "text": [
            "Drive already mounted at /content/drive; to attempt to forcibly remount, call drive.mount(\"/content/drive\", force_remount=True).\n",
            "Dataset loaded successfully, Dataset:\n",
            " (1001, 8)\n"
          ]
        }
      ]
    },
    {
      "cell_type": "code",
      "source": [
        "#first 10 row\n",
        "df.head(10)"
      ],
      "metadata": {
        "colab": {
          "base_uri": "https://localhost:8080/",
          "height": 363
        },
        "id": "dXu09vixbSA7",
        "outputId": "34575611-822e-4c3e-916a-0b8b507dbb7f"
      },
      "execution_count": 128,
      "outputs": [
        {
          "output_type": "execute_result",
          "data": {
            "text/plain": [
              "   gender  race/ethnicity  parental level of education         lunch  \\\n",
              "0  gender  race/ethnicity  parental level of education         lunch   \n",
              "1  female         group B            bachelor's degree      standard   \n",
              "2  female         group C                 some college      standard   \n",
              "3  female         group B              master's degree      standard   \n",
              "4    male         group A           associate's degree  free/reduced   \n",
              "5    male         group C                 some college      standard   \n",
              "6  female         group B           associate's degree      standard   \n",
              "7  female         group B                 some college      standard   \n",
              "8    male         group B                 some college  free/reduced   \n",
              "9    male         group D                  high school  free/reduced   \n",
              "\n",
              "   test preparation course  math score  reading score  writing score  \n",
              "0  test preparation course  math score  reading score  writing score  \n",
              "1                     none          72             72             74  \n",
              "2                completed          69             90             88  \n",
              "3                     none          90             95             93  \n",
              "4                     none          47             57             44  \n",
              "5                     none          76             78             75  \n",
              "6                     none          71             83             78  \n",
              "7                completed          88             95             92  \n",
              "8                     none          40             43             39  \n",
              "9                completed          64             64             67  "
            ],
            "text/html": [
              "\n",
              "  <div id=\"df-9bc1760b-2d76-4a6e-84f3-146a1d9e97be\" class=\"colab-df-container\">\n",
              "    <div>\n",
              "<style scoped>\n",
              "    .dataframe tbody tr th:only-of-type {\n",
              "        vertical-align: middle;\n",
              "    }\n",
              "\n",
              "    .dataframe tbody tr th {\n",
              "        vertical-align: top;\n",
              "    }\n",
              "\n",
              "    .dataframe thead th {\n",
              "        text-align: right;\n",
              "    }\n",
              "</style>\n",
              "<table border=\"1\" class=\"dataframe\">\n",
              "  <thead>\n",
              "    <tr style=\"text-align: right;\">\n",
              "      <th></th>\n",
              "      <th>gender</th>\n",
              "      <th>race/ethnicity</th>\n",
              "      <th>parental level of education</th>\n",
              "      <th>lunch</th>\n",
              "      <th>test preparation course</th>\n",
              "      <th>math score</th>\n",
              "      <th>reading score</th>\n",
              "      <th>writing score</th>\n",
              "    </tr>\n",
              "  </thead>\n",
              "  <tbody>\n",
              "    <tr>\n",
              "      <th>0</th>\n",
              "      <td>gender</td>\n",
              "      <td>race/ethnicity</td>\n",
              "      <td>parental level of education</td>\n",
              "      <td>lunch</td>\n",
              "      <td>test preparation course</td>\n",
              "      <td>math score</td>\n",
              "      <td>reading score</td>\n",
              "      <td>writing score</td>\n",
              "    </tr>\n",
              "    <tr>\n",
              "      <th>1</th>\n",
              "      <td>female</td>\n",
              "      <td>group B</td>\n",
              "      <td>bachelor's degree</td>\n",
              "      <td>standard</td>\n",
              "      <td>none</td>\n",
              "      <td>72</td>\n",
              "      <td>72</td>\n",
              "      <td>74</td>\n",
              "    </tr>\n",
              "    <tr>\n",
              "      <th>2</th>\n",
              "      <td>female</td>\n",
              "      <td>group C</td>\n",
              "      <td>some college</td>\n",
              "      <td>standard</td>\n",
              "      <td>completed</td>\n",
              "      <td>69</td>\n",
              "      <td>90</td>\n",
              "      <td>88</td>\n",
              "    </tr>\n",
              "    <tr>\n",
              "      <th>3</th>\n",
              "      <td>female</td>\n",
              "      <td>group B</td>\n",
              "      <td>master's degree</td>\n",
              "      <td>standard</td>\n",
              "      <td>none</td>\n",
              "      <td>90</td>\n",
              "      <td>95</td>\n",
              "      <td>93</td>\n",
              "    </tr>\n",
              "    <tr>\n",
              "      <th>4</th>\n",
              "      <td>male</td>\n",
              "      <td>group A</td>\n",
              "      <td>associate's degree</td>\n",
              "      <td>free/reduced</td>\n",
              "      <td>none</td>\n",
              "      <td>47</td>\n",
              "      <td>57</td>\n",
              "      <td>44</td>\n",
              "    </tr>\n",
              "    <tr>\n",
              "      <th>5</th>\n",
              "      <td>male</td>\n",
              "      <td>group C</td>\n",
              "      <td>some college</td>\n",
              "      <td>standard</td>\n",
              "      <td>none</td>\n",
              "      <td>76</td>\n",
              "      <td>78</td>\n",
              "      <td>75</td>\n",
              "    </tr>\n",
              "    <tr>\n",
              "      <th>6</th>\n",
              "      <td>female</td>\n",
              "      <td>group B</td>\n",
              "      <td>associate's degree</td>\n",
              "      <td>standard</td>\n",
              "      <td>none</td>\n",
              "      <td>71</td>\n",
              "      <td>83</td>\n",
              "      <td>78</td>\n",
              "    </tr>\n",
              "    <tr>\n",
              "      <th>7</th>\n",
              "      <td>female</td>\n",
              "      <td>group B</td>\n",
              "      <td>some college</td>\n",
              "      <td>standard</td>\n",
              "      <td>completed</td>\n",
              "      <td>88</td>\n",
              "      <td>95</td>\n",
              "      <td>92</td>\n",
              "    </tr>\n",
              "    <tr>\n",
              "      <th>8</th>\n",
              "      <td>male</td>\n",
              "      <td>group B</td>\n",
              "      <td>some college</td>\n",
              "      <td>free/reduced</td>\n",
              "      <td>none</td>\n",
              "      <td>40</td>\n",
              "      <td>43</td>\n",
              "      <td>39</td>\n",
              "    </tr>\n",
              "    <tr>\n",
              "      <th>9</th>\n",
              "      <td>male</td>\n",
              "      <td>group D</td>\n",
              "      <td>high school</td>\n",
              "      <td>free/reduced</td>\n",
              "      <td>completed</td>\n",
              "      <td>64</td>\n",
              "      <td>64</td>\n",
              "      <td>67</td>\n",
              "    </tr>\n",
              "  </tbody>\n",
              "</table>\n",
              "</div>\n",
              "    <div class=\"colab-df-buttons\">\n",
              "\n",
              "  <div class=\"colab-df-container\">\n",
              "    <button class=\"colab-df-convert\" onclick=\"convertToInteractive('df-9bc1760b-2d76-4a6e-84f3-146a1d9e97be')\"\n",
              "            title=\"Convert this dataframe to an interactive table.\"\n",
              "            style=\"display:none;\">\n",
              "\n",
              "  <svg xmlns=\"http://www.w3.org/2000/svg\" height=\"24px\" viewBox=\"0 -960 960 960\">\n",
              "    <path d=\"M120-120v-720h720v720H120Zm60-500h600v-160H180v160Zm220 220h160v-160H400v160Zm0 220h160v-160H400v160ZM180-400h160v-160H180v160Zm440 0h160v-160H620v160ZM180-180h160v-160H180v160Zm440 0h160v-160H620v160Z\"/>\n",
              "  </svg>\n",
              "    </button>\n",
              "\n",
              "  <style>\n",
              "    .colab-df-container {\n",
              "      display:flex;\n",
              "      gap: 12px;\n",
              "    }\n",
              "\n",
              "    .colab-df-convert {\n",
              "      background-color: #E8F0FE;\n",
              "      border: none;\n",
              "      border-radius: 50%;\n",
              "      cursor: pointer;\n",
              "      display: none;\n",
              "      fill: #1967D2;\n",
              "      height: 32px;\n",
              "      padding: 0 0 0 0;\n",
              "      width: 32px;\n",
              "    }\n",
              "\n",
              "    .colab-df-convert:hover {\n",
              "      background-color: #E2EBFA;\n",
              "      box-shadow: 0px 1px 2px rgba(60, 64, 67, 0.3), 0px 1px 3px 1px rgba(60, 64, 67, 0.15);\n",
              "      fill: #174EA6;\n",
              "    }\n",
              "\n",
              "    .colab-df-buttons div {\n",
              "      margin-bottom: 4px;\n",
              "    }\n",
              "\n",
              "    [theme=dark] .colab-df-convert {\n",
              "      background-color: #3B4455;\n",
              "      fill: #D2E3FC;\n",
              "    }\n",
              "\n",
              "    [theme=dark] .colab-df-convert:hover {\n",
              "      background-color: #434B5C;\n",
              "      box-shadow: 0px 1px 3px 1px rgba(0, 0, 0, 0.15);\n",
              "      filter: drop-shadow(0px 1px 2px rgba(0, 0, 0, 0.3));\n",
              "      fill: #FFFFFF;\n",
              "    }\n",
              "  </style>\n",
              "\n",
              "    <script>\n",
              "      const buttonEl =\n",
              "        document.querySelector('#df-9bc1760b-2d76-4a6e-84f3-146a1d9e97be button.colab-df-convert');\n",
              "      buttonEl.style.display =\n",
              "        google.colab.kernel.accessAllowed ? 'block' : 'none';\n",
              "\n",
              "      async function convertToInteractive(key) {\n",
              "        const element = document.querySelector('#df-9bc1760b-2d76-4a6e-84f3-146a1d9e97be');\n",
              "        const dataTable =\n",
              "          await google.colab.kernel.invokeFunction('convertToInteractive',\n",
              "                                                    [key], {});\n",
              "        if (!dataTable) return;\n",
              "\n",
              "        const docLinkHtml = 'Like what you see? Visit the ' +\n",
              "          '<a target=\"_blank\" href=https://colab.research.google.com/notebooks/data_table.ipynb>data table notebook</a>'\n",
              "          + ' to learn more about interactive tables.';\n",
              "        element.innerHTML = '';\n",
              "        dataTable['output_type'] = 'display_data';\n",
              "        await google.colab.output.renderOutput(dataTable, element);\n",
              "        const docLink = document.createElement('div');\n",
              "        docLink.innerHTML = docLinkHtml;\n",
              "        element.appendChild(docLink);\n",
              "      }\n",
              "    </script>\n",
              "  </div>\n",
              "\n",
              "\n",
              "    <div id=\"df-12d51c13-40c0-48bc-bb16-05f4aeb1fd19\">\n",
              "      <button class=\"colab-df-quickchart\" onclick=\"quickchart('df-12d51c13-40c0-48bc-bb16-05f4aeb1fd19')\"\n",
              "                title=\"Suggest charts\"\n",
              "                style=\"display:none;\">\n",
              "\n",
              "<svg xmlns=\"http://www.w3.org/2000/svg\" height=\"24px\"viewBox=\"0 0 24 24\"\n",
              "     width=\"24px\">\n",
              "    <g>\n",
              "        <path d=\"M19 3H5c-1.1 0-2 .9-2 2v14c0 1.1.9 2 2 2h14c1.1 0 2-.9 2-2V5c0-1.1-.9-2-2-2zM9 17H7v-7h2v7zm4 0h-2V7h2v10zm4 0h-2v-4h2v4z\"/>\n",
              "    </g>\n",
              "</svg>\n",
              "      </button>\n",
              "\n",
              "<style>\n",
              "  .colab-df-quickchart {\n",
              "      --bg-color: #E8F0FE;\n",
              "      --fill-color: #1967D2;\n",
              "      --hover-bg-color: #E2EBFA;\n",
              "      --hover-fill-color: #174EA6;\n",
              "      --disabled-fill-color: #AAA;\n",
              "      --disabled-bg-color: #DDD;\n",
              "  }\n",
              "\n",
              "  [theme=dark] .colab-df-quickchart {\n",
              "      --bg-color: #3B4455;\n",
              "      --fill-color: #D2E3FC;\n",
              "      --hover-bg-color: #434B5C;\n",
              "      --hover-fill-color: #FFFFFF;\n",
              "      --disabled-bg-color: #3B4455;\n",
              "      --disabled-fill-color: #666;\n",
              "  }\n",
              "\n",
              "  .colab-df-quickchart {\n",
              "    background-color: var(--bg-color);\n",
              "    border: none;\n",
              "    border-radius: 50%;\n",
              "    cursor: pointer;\n",
              "    display: none;\n",
              "    fill: var(--fill-color);\n",
              "    height: 32px;\n",
              "    padding: 0;\n",
              "    width: 32px;\n",
              "  }\n",
              "\n",
              "  .colab-df-quickchart:hover {\n",
              "    background-color: var(--hover-bg-color);\n",
              "    box-shadow: 0 1px 2px rgba(60, 64, 67, 0.3), 0 1px 3px 1px rgba(60, 64, 67, 0.15);\n",
              "    fill: var(--button-hover-fill-color);\n",
              "  }\n",
              "\n",
              "  .colab-df-quickchart-complete:disabled,\n",
              "  .colab-df-quickchart-complete:disabled:hover {\n",
              "    background-color: var(--disabled-bg-color);\n",
              "    fill: var(--disabled-fill-color);\n",
              "    box-shadow: none;\n",
              "  }\n",
              "\n",
              "  .colab-df-spinner {\n",
              "    border: 2px solid var(--fill-color);\n",
              "    border-color: transparent;\n",
              "    border-bottom-color: var(--fill-color);\n",
              "    animation:\n",
              "      spin 1s steps(1) infinite;\n",
              "  }\n",
              "\n",
              "  @keyframes spin {\n",
              "    0% {\n",
              "      border-color: transparent;\n",
              "      border-bottom-color: var(--fill-color);\n",
              "      border-left-color: var(--fill-color);\n",
              "    }\n",
              "    20% {\n",
              "      border-color: transparent;\n",
              "      border-left-color: var(--fill-color);\n",
              "      border-top-color: var(--fill-color);\n",
              "    }\n",
              "    30% {\n",
              "      border-color: transparent;\n",
              "      border-left-color: var(--fill-color);\n",
              "      border-top-color: var(--fill-color);\n",
              "      border-right-color: var(--fill-color);\n",
              "    }\n",
              "    40% {\n",
              "      border-color: transparent;\n",
              "      border-right-color: var(--fill-color);\n",
              "      border-top-color: var(--fill-color);\n",
              "    }\n",
              "    60% {\n",
              "      border-color: transparent;\n",
              "      border-right-color: var(--fill-color);\n",
              "    }\n",
              "    80% {\n",
              "      border-color: transparent;\n",
              "      border-right-color: var(--fill-color);\n",
              "      border-bottom-color: var(--fill-color);\n",
              "    }\n",
              "    90% {\n",
              "      border-color: transparent;\n",
              "      border-bottom-color: var(--fill-color);\n",
              "    }\n",
              "  }\n",
              "</style>\n",
              "\n",
              "      <script>\n",
              "        async function quickchart(key) {\n",
              "          const quickchartButtonEl =\n",
              "            document.querySelector('#' + key + ' button');\n",
              "          quickchartButtonEl.disabled = true;  // To prevent multiple clicks.\n",
              "          quickchartButtonEl.classList.add('colab-df-spinner');\n",
              "          try {\n",
              "            const charts = await google.colab.kernel.invokeFunction(\n",
              "                'suggestCharts', [key], {});\n",
              "          } catch (error) {\n",
              "            console.error('Error during call to suggestCharts:', error);\n",
              "          }\n",
              "          quickchartButtonEl.classList.remove('colab-df-spinner');\n",
              "          quickchartButtonEl.classList.add('colab-df-quickchart-complete');\n",
              "        }\n",
              "        (() => {\n",
              "          let quickchartButtonEl =\n",
              "            document.querySelector('#df-12d51c13-40c0-48bc-bb16-05f4aeb1fd19 button');\n",
              "          quickchartButtonEl.style.display =\n",
              "            google.colab.kernel.accessAllowed ? 'block' : 'none';\n",
              "        })();\n",
              "      </script>\n",
              "    </div>\n",
              "\n",
              "    </div>\n",
              "  </div>\n"
            ],
            "application/vnd.google.colaboratory.intrinsic+json": {
              "type": "dataframe",
              "variable_name": "df",
              "summary": "{\n  \"name\": \"df\",\n  \"rows\": 1001,\n  \"fields\": [\n    {\n      \"column\": \"gender\",\n      \"properties\": {\n        \"dtype\": \"category\",\n        \"num_unique_values\": 3,\n        \"samples\": [\n          \"gender\",\n          \"female\",\n          \"male\"\n        ],\n        \"semantic_type\": \"\",\n        \"description\": \"\"\n      }\n    },\n    {\n      \"column\": \"race/ethnicity\",\n      \"properties\": {\n        \"dtype\": \"category\",\n        \"num_unique_values\": 6,\n        \"samples\": [\n          \"race/ethnicity\",\n          \"group B\",\n          \"group E\"\n        ],\n        \"semantic_type\": \"\",\n        \"description\": \"\"\n      }\n    },\n    {\n      \"column\": \"parental level of education\",\n      \"properties\": {\n        \"dtype\": \"category\",\n        \"num_unique_values\": 7,\n        \"samples\": [\n          \"parental level of education\",\n          \"bachelor's degree\",\n          \"high school\"\n        ],\n        \"semantic_type\": \"\",\n        \"description\": \"\"\n      }\n    },\n    {\n      \"column\": \"lunch\",\n      \"properties\": {\n        \"dtype\": \"category\",\n        \"num_unique_values\": 3,\n        \"samples\": [\n          \"lunch\",\n          \"standard\",\n          \"free/reduced\"\n        ],\n        \"semantic_type\": \"\",\n        \"description\": \"\"\n      }\n    },\n    {\n      \"column\": \"test preparation course\",\n      \"properties\": {\n        \"dtype\": \"category\",\n        \"num_unique_values\": 3,\n        \"samples\": [\n          \"test preparation course\",\n          \"none\",\n          \"completed\"\n        ],\n        \"semantic_type\": \"\",\n        \"description\": \"\"\n      }\n    },\n    {\n      \"column\": \"math score\",\n      \"properties\": {\n        \"dtype\": \"category\",\n        \"num_unique_values\": 82,\n        \"samples\": [\n          \"57\",\n          \"math score\",\n          \"67\"\n        ],\n        \"semantic_type\": \"\",\n        \"description\": \"\"\n      }\n    },\n    {\n      \"column\": \"reading score\",\n      \"properties\": {\n        \"dtype\": \"category\",\n        \"num_unique_values\": 73,\n        \"samples\": [\n          \"57\",\n          \"23\",\n          \"58\"\n        ],\n        \"semantic_type\": \"\",\n        \"description\": \"\"\n      }\n    },\n    {\n      \"column\": \"writing score\",\n      \"properties\": {\n        \"dtype\": \"category\",\n        \"num_unique_values\": 78,\n        \"samples\": [\n          \"68\",\n          \"writing score\",\n          \"66\"\n        ],\n        \"semantic_type\": \"\",\n        \"description\": \"\"\n      }\n    }\n  ]\n}"
            }
          },
          "metadata": {},
          "execution_count": 128
        }
      ]
    },
    {
      "cell_type": "code",
      "source": [
        "#2. Shape\n",
        "df.shape"
      ],
      "metadata": {
        "colab": {
          "base_uri": "https://localhost:8080/"
        },
        "id": "Xj44xkMCbbQQ",
        "outputId": "7c787830-7a9f-4f9e-f0aa-3871d228e7f6"
      },
      "execution_count": 129,
      "outputs": [
        {
          "output_type": "execute_result",
          "data": {
            "text/plain": [
              "(1001, 8)"
            ]
          },
          "metadata": {},
          "execution_count": 129
        }
      ]
    },
    {
      "cell_type": "code",
      "source": [
        "#info\n",
        "df.info()"
      ],
      "metadata": {
        "colab": {
          "base_uri": "https://localhost:8080/"
        },
        "id": "4QmOb4ujblno",
        "outputId": "a95e9540-ddc8-4b34-8a5c-3c5a9c56a2df"
      },
      "execution_count": 130,
      "outputs": [
        {
          "output_type": "stream",
          "name": "stdout",
          "text": [
            "<class 'pandas.core.frame.DataFrame'>\n",
            "RangeIndex: 1001 entries, 0 to 1000\n",
            "Data columns (total 8 columns):\n",
            " #   Column                       Non-Null Count  Dtype \n",
            "---  ------                       --------------  ----- \n",
            " 0   gender                       1001 non-null   object\n",
            " 1   race/ethnicity               1001 non-null   object\n",
            " 2   parental level of education  1001 non-null   object\n",
            " 3   lunch                        1001 non-null   object\n",
            " 4   test preparation course      1001 non-null   object\n",
            " 5   math score                   1001 non-null   object\n",
            " 6   reading score                1001 non-null   object\n",
            " 7   writing score                1001 non-null   object\n",
            "dtypes: object(8)\n",
            "memory usage: 62.7+ KB\n"
          ]
        }
      ]
    },
    {
      "cell_type": "code",
      "source": [
        "#4.Basic statistics(mean, median, std, min, max)\n",
        "df = df.iloc[1:].reset_index(drop=True)\n",
        "df['math score']= df['math score'].astype(int)\n",
        "df['reading score']= df['reading score'].astype(int)\n",
        "df['writing score']= df['writing score'].astype(int)\n",
        "\n",
        "math = df['math score'].values\n",
        "read = df['reading score'].values\n",
        "write = df['writing score'].values\n",
        "\n",
        "df.dtypes\n",
        "df.head()\n",
        "\n",
        "print('Statistics math-mean:', round(np.mean(math),2))\n",
        "print('Statistics math-median:', round(np.median(math),2))\n",
        "print('Statistics math-std:', round(np.std(math),2))\n",
        "print('Statistics math-min/max:', np.min(math), np.max(math))\n",
        "\n",
        "print('Statistics read-mean:', round(np.mean(read),2))\n",
        "print('Statistics read-median:', round(np.median(read),2))\n",
        "print('Statistics read-std:', round(np.std(read),2))\n",
        "print('Statistics math-min/max:', np.min(read), np.max(read))\n",
        "\n",
        "print('Statistics write-mean:', round(np.mean(write),2))\n",
        "print('Statistics write-median:', round(np.median(write),2))\n",
        "print('Statistics write-std:', round(np.std(write),2))\n",
        "print('Statistics math-min/max:', np.min(write), np.max(write))"
      ],
      "metadata": {
        "colab": {
          "base_uri": "https://localhost:8080/"
        },
        "id": "8JJr_NAae5R8",
        "outputId": "ff841076-5868-4126-f9e1-08da65cc8803"
      },
      "execution_count": 131,
      "outputs": [
        {
          "output_type": "stream",
          "name": "stdout",
          "text": [
            "Statistics math-mean: 66.09\n",
            "Statistics math-median: 66.0\n",
            "Statistics math-std: 15.16\n",
            "Statistics math-min/max: 0 100\n",
            "Statistics read-mean: 69.17\n",
            "Statistics read-median: 70.0\n",
            "Statistics read-std: 14.59\n",
            "Statistics math-min/max: 17 100\n",
            "Statistics write-mean: 68.05\n",
            "Statistics write-median: 69.0\n",
            "Statistics write-std: 15.19\n",
            "Statistics math-min/max: 10 100\n"
          ]
        }
      ]
    },
    {
      "cell_type": "code",
      "source": [
        "#Task 1.2: NumPy Array Operations\n",
        "# Convert score columns to numpy arrays\n",
        "math_scores = df['math score'].values\n",
        "reading_scores = df['reading score'].values\n",
        "writing_scores = df['writing score'].values\n",
        "\n",
        "# Your tasks:\n",
        "# 1. Calculate mean, median, std, min, max for each subject using NumPy\n",
        "# 2. Find total students who scored above 80 in math\n",
        "# 3. Find total students who scored below 50 in any subject\n",
        "# 4. Calculate the overall average score across all three subjects\n",
        "\n",
        "# Expected output example:\n",
        "# Math - Mean: 66.1, Median: 66.0, Std: 15.2\n",
        "# Students with math > 80: 132\n",
        "# Students with any score < 50: 178\n",
        "\n",
        "# Your code here:\n"
      ],
      "metadata": {
        "id": "JQzbRZTAefeu"
      },
      "execution_count": 132,
      "outputs": []
    },
    {
      "cell_type": "code",
      "source": [
        "#1.2 students who score more than 80 in math\n",
        "high_math_scores = (math> 80)\n",
        "print('student who has high math scores:', np.sum(high_math_scores))\n",
        "\n",
        "#poorest student who have less than 50 numbers in any subject\n",
        "below_numbers = (math<50) & (read<50) & (write<50)\n",
        "print('student who have less than 50 numbers in any subject:', np.sum(below_numbers))\n",
        "\n",
        "#Average score\n",
        "average_score = np.array([math,read,write])\n",
        "mean_three_columns = np.mean(average_score)\n",
        "print('Average mean of read, write and math is:', round(mean_three_columns, 2))"
      ],
      "metadata": {
        "colab": {
          "base_uri": "https://localhost:8080/"
        },
        "id": "Ba8lWhZxmstv",
        "outputId": "0a4fabcb-9ff7-415f-d1b5-7348385bbd89"
      },
      "execution_count": 133,
      "outputs": [
        {
          "output_type": "stream",
          "name": "stdout",
          "text": [
            "student who has high math scores: 176\n",
            "student who have less than 50 numbers in any subject: 55\n",
            "Average mean of read, write and math is: 67.77\n"
          ]
        }
      ]
    },
    {
      "cell_type": "code",
      "source": [
        "# Task 2.1: Identify and Handle Missing Data\n",
        "# Check the dataset for any missing values\n",
        "# Your tasks:\n",
        "# 1. Check for null values in each column using .isnull().sum()\n",
        "# 2. Check for any impossible values (scores > 100 or < 0)\n",
        "# 3. Display summary of data quality\n",
        "\n",
        "# Note: This dataset is clean, but let's verify!\n",
        "\n",
        "# Your code here:\n"
      ],
      "metadata": {
        "id": "jxHdNzGeexDI"
      },
      "execution_count": 134,
      "outputs": []
    },
    {
      "cell_type": "code",
      "source": [
        "#2.1 checking missing values\n",
        "print(df.isnull().sum())"
      ],
      "metadata": {
        "colab": {
          "base_uri": "https://localhost:8080/"
        },
        "id": "7AE6ozoluk_i",
        "outputId": "cbe518c3-62f3-47d0-cda1-87356083dc6d"
      },
      "execution_count": 135,
      "outputs": [
        {
          "output_type": "stream",
          "name": "stdout",
          "text": [
            "gender                         0\n",
            "race/ethnicity                 0\n",
            "parental level of education    0\n",
            "lunch                          0\n",
            "test preparation course        0\n",
            "math score                     0\n",
            "reading score                  0\n",
            "writing score                  0\n",
            "dtype: int64\n"
          ]
        }
      ]
    },
    {
      "cell_type": "code",
      "source": [
        "#2.2 checking impossible values\n",
        "imp_values_math = (math>100) | (math<0)\n",
        "print('Impossible values for math:',(imp_values_math).sum())\n",
        "\n",
        "imp_values_read = (read>100) | (read<0)\n",
        "print('Impossible values for read:',(imp_values_read).sum())\n",
        "\n",
        "imp_values_write = (write>100) | (write<0)\n",
        "print('Impossible values for write:',(imp_values_write).sum())"
      ],
      "metadata": {
        "colab": {
          "base_uri": "https://localhost:8080/"
        },
        "id": "d7qcS2QpvIGO",
        "outputId": "e7a1e944-fd4f-45c2-913f-37a5d33379a7"
      },
      "execution_count": 136,
      "outputs": [
        {
          "output_type": "stream",
          "name": "stdout",
          "text": [
            "Impossible values for math: 0\n",
            "Impossible values for read: 0\n",
            "Impossible values for write: 0\n"
          ]
        }
      ]
    },
    {
      "cell_type": "code",
      "source": [
        "#checking data quality\n",
        "print(df.duplicated().sum())"
      ],
      "metadata": {
        "colab": {
          "base_uri": "https://localhost:8080/"
        },
        "id": "CgHTE5vcw7hn",
        "outputId": "146769a9-1745-4aa9-ac0c-7a0386a58b33"
      },
      "execution_count": 137,
      "outputs": [
        {
          "output_type": "stream",
          "name": "stdout",
          "text": [
            "0\n"
          ]
        }
      ]
    },
    {
      "cell_type": "code",
      "source": [
        "#Task 2.2: Create and Fix Missing Value\n",
        "# Artificially create missing data for practice\n",
        "import numpy as np\n",
        "\n",
        "# Your tasks:\n",
        "# 1. Make a copy of the dataset: df_practice = df.copy()\n",
        "# 2. Randomly set 50 math scores to np.nan\n",
        "# 3. Randomly set 30 writing scores to np.nan\n",
        "# 4. Fill missing math scores with the MEDIAN math score\n",
        "# 5. Fill missing writing scores with the MEAN writing score\n",
        "# 6. Verify no missing values remain\n",
        "\n",
        "# Steps to follow:\n",
        "# Step 1: Create copy and show original missing values\n",
        "df_practice = df.copy()\n",
        "print(\"Original missing values:\", df_practice.isnull().sum())\n",
        "\n",
        "# Step 2: Create missing data\n",
        "np.random.seed(42)  # For reproducible results\n",
        "missing_math_idx = np.random.choice(df_practice.index, 50, replace=False)\n",
        "missing_writing_idx = np.random.choice(df_practice.index, 30, replace=False)\n",
        "\n",
        "# Continue the task...\n",
        "# Your code here:\n"
      ],
      "metadata": {
        "id": "gjwOKcwLe9vC",
        "colab": {
          "base_uri": "https://localhost:8080/"
        },
        "outputId": "2d4c7b9e-038b-4ff5-e291-c9d57134b52e"
      },
      "execution_count": 138,
      "outputs": [
        {
          "output_type": "stream",
          "name": "stdout",
          "text": [
            "Original missing values: gender                         0\n",
            "race/ethnicity                 0\n",
            "parental level of education    0\n",
            "lunch                          0\n",
            "test preparation course        0\n",
            "math score                     0\n",
            "reading score                  0\n",
            "writing score                  0\n",
            "dtype: int64\n"
          ]
        }
      ]
    },
    {
      "cell_type": "code",
      "source": [
        "#Create copy and show original missing values\n",
        "df_practice = df.copy()\n",
        "print(\"Original missing values:\", df_practice.isnull().sum())"
      ],
      "metadata": {
        "colab": {
          "base_uri": "https://localhost:8080/"
        },
        "id": "-8u11dCJxzEf",
        "outputId": "eadf4eb5-26ca-4e84-fbf8-b217856722e3"
      },
      "execution_count": 139,
      "outputs": [
        {
          "output_type": "stream",
          "name": "stdout",
          "text": [
            "Original missing values: gender                         0\n",
            "race/ethnicity                 0\n",
            "parental level of education    0\n",
            "lunch                          0\n",
            "test preparation course        0\n",
            "math score                     0\n",
            "reading score                  0\n",
            "writing score                  0\n",
            "dtype: int64\n"
          ]
        }
      ]
    },
    {
      "cell_type": "code",
      "source": [
        "#Create missing data\n",
        "np.random.seed(42)  # For reproducible results\n",
        "missing_math_idx = np.random.choice(df_practice.index, 4, replace=False)\n",
        "missing_writing_idx = np.random.choice(df_practice.index, 30, replace=False)"
      ],
      "metadata": {
        "id": "u17_3ZdsyG3l"
      },
      "execution_count": 140,
      "outputs": []
    },
    {
      "cell_type": "code",
      "source": [
        "df['math score'] = df['math score'].replace(0, np.nan)\n",
        "df['writing score'] = df['writing score'].replace(0, np.nan)\n",
        "print(\"Missing values after replacement:\", df['math score'].isnull().sum())\n",
        "print(\"Missing values after replacement:\", df['writing score'].isnull().sum())"
      ],
      "metadata": {
        "colab": {
          "base_uri": "https://localhost:8080/"
        },
        "id": "9Or8BpD92Ynx",
        "outputId": "e6c06c33-2b19-47c5-d7da-9a10f352dac5"
      },
      "execution_count": 141,
      "outputs": [
        {
          "output_type": "stream",
          "name": "stdout",
          "text": [
            "Missing values after replacement: 1\n",
            "Missing values after replacement: 0\n"
          ]
        }
      ]
    },
    {
      "cell_type": "code",
      "source": [
        "#Task 3.1:Answer Simple Questions About Student Performance\n",
        "# Your tasks:\n",
        "# 1. Display first 5 rows using .head()\n",
        "# 2. Display last 5 rows using .tail()\n",
        "# 3. Show dataset shape using .shape\n",
        "# 4. Show column names using .columns\n",
        "# 5. Show data types using .dtypes\n",
        "# 6. Show basic info using .info()\n",
        "\n",
        "# Your code here:\n",
        "print(df_practice.head())\n",
        "print(df_practice.tail())\n",
        "print(df_practice.shape)\n",
        "print(df_practice.columns)\n",
        "print(df_practice.dtypes)\n",
        "print(df_practice.info())"
      ],
      "metadata": {
        "id": "ijhkTUFqgnaG",
        "colab": {
          "base_uri": "https://localhost:8080/"
        },
        "outputId": "045ee2fe-a012-4b92-d5b2-25e663222cda"
      },
      "execution_count": 142,
      "outputs": [
        {
          "output_type": "stream",
          "name": "stdout",
          "text": [
            "   gender race/ethnicity parental level of education         lunch  \\\n",
            "0  female        group B           bachelor's degree      standard   \n",
            "1  female        group C                some college      standard   \n",
            "2  female        group B             master's degree      standard   \n",
            "3    male        group A          associate's degree  free/reduced   \n",
            "4    male        group C                some college      standard   \n",
            "\n",
            "  test preparation course  math score  reading score  writing score  \n",
            "0                    none          72             72             74  \n",
            "1               completed          69             90             88  \n",
            "2                    none          90             95             93  \n",
            "3                    none          47             57             44  \n",
            "4                    none          76             78             75  \n",
            "     gender race/ethnicity parental level of education         lunch  \\\n",
            "995  female        group E             master's degree      standard   \n",
            "996    male        group C                 high school  free/reduced   \n",
            "997  female        group C                 high school  free/reduced   \n",
            "998  female        group D                some college      standard   \n",
            "999  female        group D                some college  free/reduced   \n",
            "\n",
            "    test preparation course  math score  reading score  writing score  \n",
            "995               completed          88             99             95  \n",
            "996                    none          62             55             55  \n",
            "997               completed          59             71             65  \n",
            "998               completed          68             78             77  \n",
            "999                    none          77             86             86  \n",
            "(1000, 8)\n",
            "Index(['gender', 'race/ethnicity', 'parental level of education', 'lunch',\n",
            "       'test preparation course', 'math score', 'reading score',\n",
            "       'writing score'],\n",
            "      dtype='object')\n",
            "gender                         object\n",
            "race/ethnicity                 object\n",
            "parental level of education    object\n",
            "lunch                          object\n",
            "test preparation course        object\n",
            "math score                      int64\n",
            "reading score                   int64\n",
            "writing score                   int64\n",
            "dtype: object\n",
            "<class 'pandas.core.frame.DataFrame'>\n",
            "RangeIndex: 1000 entries, 0 to 999\n",
            "Data columns (total 8 columns):\n",
            " #   Column                       Non-Null Count  Dtype \n",
            "---  ------                       --------------  ----- \n",
            " 0   gender                       1000 non-null   object\n",
            " 1   race/ethnicity               1000 non-null   object\n",
            " 2   parental level of education  1000 non-null   object\n",
            " 3   lunch                        1000 non-null   object\n",
            " 4   test preparation course      1000 non-null   object\n",
            " 5   math score                   1000 non-null   int64 \n",
            " 6   reading score                1000 non-null   int64 \n",
            " 7   writing score                1000 non-null   int64 \n",
            "dtypes: int64(3), object(5)\n",
            "memory usage: 62.6+ KB\n",
            "None\n"
          ]
        }
      ]
    },
    {
      "cell_type": "code",
      "source": [
        "#Task 3.2: Basic Groupby Analysis\n",
        "# Comprehensive groupby analysis\n",
        "# Your tasks:\n",
        "\n",
        "# 1. Group by 'gender' and calculate:\n",
        "#    - Average scores in all subjects\n",
        "#    - Count of students\n",
        "\n",
        "# 2. Group by 'test preparation course' and show:\n",
        "#    - Mean scores for each subject\n",
        "#    - Show which subject benefits most from test prep\n",
        "\n",
        "# 3. Group by 'parental level of education' and calculate:\n",
        "#    - Average math score for each education level\n",
        "#    - Rank education levels by math performance\n",
        "\n",
        "# 4. Group by 'lunch' type and show:\n",
        "#    - Average scores for each subject\n",
        "#    - Count of students in each lunch category\n",
        "\n",
        "# Your code here:\n",
        "math_scores = df['math score'].values\n",
        "reading_scores = df['reading score'].values\n",
        "writing_scores = df['writing score'].values\n",
        "summary = df.groupby('gender')[['math score', 'reading score', 'writing score']].mean()\n",
        "print(\"Summary by gender:\")\n",
        "print(round(summary,2))"
      ],
      "metadata": {
        "id": "eW-bxo9SfNFC",
        "colab": {
          "base_uri": "https://localhost:8080/"
        },
        "outputId": "2e002028-e93c-4f63-c551-89ddee92ffcf"
      },
      "execution_count": 151,
      "outputs": [
        {
          "output_type": "stream",
          "name": "stdout",
          "text": [
            "Summary by gender:\n",
            "        math score  reading score  writing score\n",
            "gender                                          \n",
            "female       63.76          72.61          72.47\n",
            "male         68.73          65.47          63.31\n"
          ]
        }
      ]
    },
    {
      "cell_type": "code",
      "source": [
        "#1 Average score\n",
        "average_score = np.array([math,read,write])\n",
        "mean_three_columns = np.mean(average_score)\n",
        "print('Average scores of read, write and math is:', round(mean_three_columns, 2))\n",
        "\n",
        "#count\n",
        "gender = df['gender'].count()\n",
        "print('Total number of students:', gender)"
      ],
      "metadata": {
        "colab": {
          "base_uri": "https://localhost:8080/"
        },
        "id": "NhnalLAG7KT8",
        "outputId": "705e05b2-e1fa-44c6-c914-700c60755b3a"
      },
      "execution_count": 169,
      "outputs": [
        {
          "output_type": "stream",
          "name": "stdout",
          "text": [
            "Average scores of read, write and math is: 67.77\n",
            "Total number of students: 1000\n"
          ]
        }
      ]
    },
    {
      "cell_type": "code",
      "source": [],
      "metadata": {
        "colab": {
          "base_uri": "https://localhost:8080/"
        },
        "id": "1XdCPfW58l9w",
        "outputId": "1da1be77-28b5-4c13-d0e3-7b04da721e48"
      },
      "execution_count": 168,
      "outputs": [
        {
          "output_type": "stream",
          "name": "stdout",
          "text": [
            "Total number of students: 1000\n"
          ]
        }
      ]
    },
    {
      "cell_type": "code",
      "source": [
        "#Task 3.3: Use your data analysis skills to answer these easy questions:\n",
        "\n",
        "# 1. Who performs better in math - males or females?\n",
        "#    - Calculate average math score by gender\n",
        "#    - Show the difference between male and female average\n",
        "\n",
        "# 2. Which subject do students perform best in overall?\n",
        "#    - Calculate the overall average for math, reading, and writing\n",
        "#    - Rank the subjects from highest to lowest average score\n",
        "\n",
        "# 3. What's the impact of parental education?\n",
        "#    - Find the average total score for each parental education level\n",
        "#    - Identify which education level leads to highest student performance\n"
      ],
      "metadata": {
        "id": "EXQhAbVRg_a_"
      },
      "execution_count": 145,
      "outputs": []
    }
  ]
}